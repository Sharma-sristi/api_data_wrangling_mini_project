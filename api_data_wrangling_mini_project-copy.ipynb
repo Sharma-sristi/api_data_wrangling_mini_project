{
 "cells": [
  {
   "cell_type": "markdown",
   "metadata": {},
   "source": [
    "This exercise will require you to pull some data from the Qunadl API. Qaundl is currently the most widely used aggregator of financial market data."
   ]
  },
  {
   "cell_type": "markdown",
   "metadata": {},
   "source": [
    "As a first step, you will need to register a free account on the http://www.quandl.com website."
   ]
  },
  {
   "cell_type": "markdown",
   "metadata": {},
   "source": [
    "After you register, you will be provided with a unique API key, that you should store:"
   ]
  },
  {
   "cell_type": "code",
   "execution_count": null,
   "metadata": {
    "collapsed": true
   },
   "outputs": [],
   "source": [
    "# Store the API key as a string - according to PEP8, constants are always named in all upper case\n",
    "API_KEY = ''"
   ]
  },
  {
   "cell_type": "markdown",
   "metadata": {},
   "source": [
    "Qaundl has a large number of data sources, but, unfortunately, most of them require a Premium subscription. Still, there are also a good number of free datasets."
   ]
  },
  {
   "cell_type": "markdown",
   "metadata": {},
   "source": [
    "For this mini project, we will focus on equities data from the Frankfurt Stock Exhange (FSE), which is available for free. We'll try and analyze the stock prices of a company called Carl Zeiss Meditec, which manufactures tools for eye examinations, as well as medical lasers for laser eye surgery: https://www.zeiss.com/meditec/int/home.html. The company is listed under the stock ticker AFX_X."
   ]
  },
  {
   "cell_type": "markdown",
   "metadata": {},
   "source": [
    "You can find the detailed Quandl API instructions here: https://docs.quandl.com/docs/time-series"
   ]
  },
  {
   "cell_type": "markdown",
   "metadata": {},
   "source": [
    "While there is a dedicated Python package for connecting to the Quandl API, we would prefer that you use the *requests* package, which can be easily downloaded using *pip* or *conda*. You can find the documentation for the package here: http://docs.python-requests.org/en/master/ "
   ]
  },
  {
   "cell_type": "markdown",
   "metadata": {},
   "source": [
    "Finally, apart from the *requests* package, you are encouraged to not use any third party Python packages, such as *pandas*, and instead focus on what's available in the Python Standard Library (the *collections* module might come in handy: https://pymotw.com/3/collections/ ).\n",
    "Also, since you won't have access to DataFrames, you are encouraged to us Python's native data structures - preferably dictionaries, though some questions can also be answered using lists.\n",
    "You can read more on these data structures here: https://docs.python.org/3/tutorial/datastructures.html"
   ]
  },
  {
   "cell_type": "markdown",
   "metadata": {},
   "source": [
    "Keep in mind that the JSON responses you will be getting from the API map almost one-to-one to Python's dictionaries. Unfortunately, they can be very nested, so make sure you read up on indexing dictionaries in the documentation provided above."
   ]
  },
  {
   "cell_type": "code",
   "execution_count": 12,
   "metadata": {},
   "outputs": [],
   "source": [
    "# First, import the relevant modules\n",
    "import requests\n",
    "import json"
   ]
  },
  {
   "cell_type": "code",
   "execution_count": 65,
   "metadata": {},
   "outputs": [
    {
     "name": "stdout",
     "output_type": "stream",
     "text": [
      "{\n",
      " \"dataset\": {\n",
      "  \"id\": 10095370,\n",
      "  \"dataset_code\": \"AFX_X\",\n",
      "  \"database_code\": \"FSE\",\n",
      "  \"name\": \"Carl Zeiss Meditec (AFX_X)\",\n",
      "  \"description\": \"Stock Prices for Carl Zeiss Meditec (2020-08-05) from the Frankfurt Stock Exchange.<br><br>Trading System: Xetra<br><br>ISIN: DE0005313704\",\n",
      "  \"refreshed_at\": \"2020-08-19T22:16:16.059Z\",\n",
      "  \"newest_available_date\": \"2020-08-19\",\n",
      "  \"oldest_available_date\": \"2000-06-07\",\n",
      "  \"column_names\": [\n",
      "   \"Date\",\n",
      "   \"Open\",\n",
      "   \"High\",\n",
      "   \"Low\",\n",
      "   \"Close\",\n",
      "   \"Change\",\n",
      "   \"Traded Volume\",\n",
      "   \"Turnover\",\n",
      "   \"Last Price of the Day\",\n",
      "   \"Daily Traded Units\",\n",
      "   \"Daily Turnover\"\n",
      "  ],\n",
      "  \"frequency\": \"daily\",\n",
      "  \"type\": \"Time Series\",\n",
      "  \"premium\": false,\n",
      "  \"limit\": null,\n",
      "  \"transform\": null,\n",
      "  \"column_index\": null,\n",
      "  \"start_date\": \"2021-08-18\",\n",
      "  \"end_date\": \"2020-08-19\",\n",
      "  \"data\": [],\n",
      "  \"collapse\": null,\n",
      "  \"order\": null,\n",
      "  \"database_id\": 6129\n",
      " }\n",
      "}\n"
     ]
    }
   ],
   "source": [
    "# Now, call the Quandl API and pull out a small sample of the data (only one day) to get a glimpse\n",
    "# into the JSON structure that will be returned\n",
    "# \n",
    "url= ''\n",
    "r= requests.get(url)\n",
    "json_data= r.json()\n",
    "\n",
    "#for key, value in  json_data.items():\n",
    "#    print(key ,\":\", value )\n",
    "print(json.dumps(json_data,indent=1))  \n",
    "    "
   ]
  },
  {
   "cell_type": "code",
   "execution_count": null,
   "metadata": {
    "collapsed": true
   },
   "outputs": [],
   "source": [
    "# Inspect the JSON structure of the object you created, and take note of how nested it is,\n",
    "# as well as the overall structure\n"
   ]
  },
  {
   "cell_type": "markdown",
   "metadata": {},
   "source": [
    "These are your tasks for this mini project:\n",
    "\n",
    "1. Collect data from the Franfurt Stock Exchange, for the ticker AFX_X, for the whole year 2017 (keep in mind that the date format is YYYY-MM-DD).\n",
    "2. Convert the returned JSON object into a Python dictionary.\n",
    "3. Calculate what the highest and lowest opening prices were for the stock in this period.\n",
    "4. What was the largest change in any one day (based on High and Low price)?\n",
    "5. What was the largest change between any two days (based on Closing Price)?\n",
    "6. What was the average daily trading volume during this year?\n",
    "7. (Optional) What was the median trading volume during this year. (Note: you may need to implement your own function for calculating the median.)"
   ]
  },
  {
   "cell_type": "code",
   "execution_count": 208,
   "metadata": {},
   "outputs": [
    {
     "name": "stdout",
     "output_type": "stream",
     "text": [
      "89124.33725490196\n"
     ]
    }
   ],
   "source": [
    "#url= '-----&start_date=2017-01-01&end_date=2017-12-30'\n",
    "url=''\n",
    "r= requests.get(url)\n",
    "json_data= r.json()\n",
    "\n",
    "#print(json.dumps(json_data,indent=1))  \n",
    "data = json_data['dataset']['data']\n",
    "\n",
    "\n",
    "def getValue(num,default):\n",
    "    \n",
    "    if isinstance(num,float):\n",
    "        return num\n",
    "    else:\n",
    "        return default\n",
    "\n",
    "#3\n",
    "highest_open=max([getValue(internal_list[1],0) for internal_list in data])\n",
    "lowest_open= min([getValue(internal_list[1],100000000000000) for internal_list in data])\n",
    "#print(highest_open, lowest_open)\n",
    "\n",
    "#4\n",
    "highlow_diff= max([internal_list[2]-internal_list[3] for internal_list in data])\n",
    "#print(highlow_diff)\n",
    "\n",
    "#5\n",
    "close_everyday= [internal_list[4] for internal_list in data]\n",
    "#close_everyday= close_everyday[0:5]\n",
    "#print(close_everyday)\n",
    "\n",
    "close_diff= max([abs(close_everyday[i+1]-close_everyday[i]) for i in range(0,len(close_everyday)-1)])\n",
    "#print(close_diff)\n",
    "\n",
    "#6\n",
    "#Assuming None values as 0\n",
    "\n",
    "import statistics\n",
    "average_trading_vol= statistics.mean([getValue(internal_list[6],0) for internal_list in data])\n",
    "print(average_trading_vol)"
   ]
  }
 ],
 "metadata": {
  "kernelspec": {
   "display_name": "Python 3",
   "language": "python",
   "name": "python3"
  },
  "language_info": {
   "codemirror_mode": {
    "name": "ipython",
    "version": 3
   },
   "file_extension": ".py",
   "mimetype": "text/x-python",
   "name": "python",
   "nbconvert_exporter": "python",
   "pygments_lexer": "ipython3",
   "version": "3.7.4"
  }
 },
 "nbformat": 4,
 "nbformat_minor": 2
}
